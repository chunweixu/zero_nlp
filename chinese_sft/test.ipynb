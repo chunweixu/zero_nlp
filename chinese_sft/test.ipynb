{
 "cells": [
  {
   "cell_type": "code",
   "execution_count": null,
   "id": "b84993b8-dcda-4cbd-84cf-988a8909d17c",
   "metadata": {},
   "outputs": [],
   "source": [
    "import argparse\n",
    "import os\n",
    "\n",
    "from accelerate import Accelerator\n",
    "from datasets import load_dataset\n",
    "from peft import LoraConfig\n",
    "from tqdm import tqdm\n",
    "from transformers import AutoConfig, AutoModelForCausalLM, AutoTokenizer, TrainingArguments, logging, set_seed\n",
    "\n",
    "from trl import SFTTrainer"
   ]
  },
  {
   "cell_type": "code",
   "execution_count": null,
   "id": "ef7a5a11-62a2-42b7-8f61-7987793207ed",
   "metadata": {},
   "outputs": [],
   "source": [
    "def tokenize_function(example):\n",
    "        question = example[\"instruction\"]\n",
    "        if example.get(\"input\"):\n",
    "            if example[\"input\"].strip():\n",
    "                question += f\"\\n{example['input']}\"\n",
    "        answer = example[\"output\"]\n",
    "        \n",
    "        q_ids = tokenizer.encode(text=question, add_special_tokens=False)\n",
    "        a_ids = tokenizer.encode(text=answer, add_special_tokens=False)\n",
    "        if len(q_ids) > args.max_input_length - 1:\n",
    "            q_ids = q_ids[: args.max_input_length - 1]\n",
    "        if len(a_ids) > args.max_output_length - 2:\n",
    "            a_ids = a_ids[: args.max_output_length - 2]\n",
    "        \n",
    "        input_ids = tokenizer.build_inputs_with_special_tokens(q_ids, a_ids)\n",
    "        question_length = input_ids.index(tokenizer.bos_token_id)\n",
    "        labels = [-100] * question_length + input_ids[question_length: ]\n",
    "        return {\"input_ids\": input_ids, \"labels\": labels}"
   ]
  },
  {
   "cell_type": "code",
   "execution_count": null,
   "id": "9d43f3e4-94e6-4369-8035-f2d3263e9b41",
   "metadata": {},
   "outputs": [],
   "source": [
    "class DataCollator:\n",
    "    def __init__(self, pad_token_id):\n",
    "        self.pad_token_id = pad_token_id\n",
    "    \n",
    "    def __call__(self, batch):\n",
    "        lengths = [len(feature[\"input_ids\"]) for feature in batch]\n",
    "        longest = max(lengths)\n",
    "        input_ids, labels = [], []\n",
    "        for length, feature in sorted(zip(lengths, batch), key=lambda x: -x[0]):\n",
    "            pad_len = longest - length\n",
    "            ids = feature[\"input_ids\"] + [self.pad_token_id] * pad_len\n",
    "            label = feature[\"labels\"] + [-100] * pad_len\n",
    "            input_ids.append(torch.LongTensor(ids))\n",
    "            labels.append(torch.LongTensor(label))\n",
    "\n",
    "        input_ids = torch.stack(input_ids)\n",
    "        labels = torch.stack(labels)\n",
    "        return {\"input_ids\": input_ids, \"labels\": labels}"
   ]
  },
  {
   "cell_type": "code",
   "execution_count": null,
   "id": "8d872d2f-df07-4847-8988-2554d82bcedf",
   "metadata": {},
   "outputs": [],
   "source": [
    "data = load_dataset(path=\"json\", data_files=args.data_path)\n",
    "column_names = data[\"train\"].column_names"
   ]
  },
  {
   "cell_type": "code",
   "execution_count": null,
   "id": "918d7479-b1c5-4ec7-955b-2bac54e85ba0",
   "metadata": {},
   "outputs": [],
   "source": [
    "train_dataset = data[\"train\"].map(tokenize_function, remove_columns=column_names)"
   ]
  }
 ],
 "metadata": {
  "kernelspec": {
   "display_name": "Python 3 (ipykernel)",
   "language": "python",
   "name": "python3"
  },
  "language_info": {
   "codemirror_mode": {
    "name": "ipython",
    "version": 3
   },
   "file_extension": ".py",
   "mimetype": "text/x-python",
   "name": "python",
   "nbconvert_exporter": "python",
   "pygments_lexer": "ipython3",
   "version": "3.8.13"
  }
 },
 "nbformat": 4,
 "nbformat_minor": 5
}
